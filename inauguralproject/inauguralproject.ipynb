{
 "cells": [
  {
   "cell_type": "markdown",
   "metadata": {},
   "source": [
    "# Inaugural Project"
   ]
  },
  {
   "attachments": {},
   "cell_type": "markdown",
   "metadata": {},
   "source": [
    "> **Note the following:** \n",
    "> 1. This is an example of how to structure your **inaugural project**.\n",
    "> 1. Remember the general advice on structuring and commenting your code\n",
    "> 1. The `inauguralproject.py` file includes a function which can be used multiple times in this notebook."
   ]
  },
  {
   "cell_type": "markdown",
   "metadata": {},
   "source": [
    "Imports and set magics:"
   ]
  },
  {
   "cell_type": "code",
   "execution_count": 1,
   "metadata": {},
   "outputs": [],
   "source": [
    "import numpy as np\n",
    "\n",
    "# autoreload modules when code is run. Otherwise, python will not see recent changes. \n",
    "%load_ext autoreload\n",
    "%autoreload 2\n",
    "\n",
    "# Import your own code\n",
    "import inauguralproject\n",
    "import HouseholdSpecializationModel"
   ]
  },
  {
   "cell_type": "markdown",
   "metadata": {},
   "source": [
    "# Question 1"
   ]
  },
  {
   "cell_type": "markdown",
   "metadata": {},
   "source": [
    "**Explain how you solve the model**"
   ]
  },
  {
   "cell_type": "code",
   "execution_count": null,
   "metadata": {},
   "outputs": [],
   "source": [
    "# code for solving the model (remember documentation and comments)\n",
    "\n",
    "a = np.array([1,2,3])\n",
    "#b = inauguralproject.square(a)\n",
    "#print(b)\n",
    "\n",
    "model = HouseholdSpecializationModel.HouseholdSpecializationModelClass()\n",
    "\n",
    "\n",
    "\n",
    "HM = np.zeros([3,3])\n",
    "\n",
    "alphalist = [0.25, 0.50, 0.75]\n",
    "sigmalist = [0.5, 1.0, 1.5]\n",
    "\n",
    "for i, j in enumerate(alphalist):\n",
    "    model.par.alpha = j\n",
    "    for it, s in enumerate(sigmalist):\n",
    "        model.par.sigma = s\n",
    "        out =  model.solve_discrete()\n",
    "        HM[i,it] = out.HF /out.HM\n",
    "\n"
   ]
  },
  {
   "cell_type": "code",
   "execution_count": 92,
   "metadata": {},
   "outputs": [],
   "source": [
    "#Resets parameters\n",
    "model.alpha = 0.5\n",
    "model.sigma=1"
   ]
  },
  {
   "cell_type": "markdown",
   "metadata": {},
   "source": [
    "# Question 2"
   ]
  },
  {
   "cell_type": "code",
   "execution_count": 2,
   "metadata": {},
   "outputs": [
    {
     "name": "stderr",
     "output_type": "stream",
     "text": [
      "/Users/emmagabriel/Documents/KU/6. Semester/Introduction to Programming and Numerical Analysis/projects-2023-hold-11/inauguralproject/HouseholdSpecializationModel.py:73: RuntimeWarning: invalid value encountered in reciprocal\n",
      "  utility = np.fmax(Q,1e-8)**(1-par.rho)/(1-par.rho)\n"
     ]
    }
   ],
   "source": [
    "model = HouseholdSpecializationModel.HouseholdSpecializationModelClass()\n",
    "model.solve_wF_vec(discrete=True)"
   ]
  },
  {
   "cell_type": "code",
   "execution_count": 3,
   "metadata": {},
   "outputs": [
    {
     "data": {
      "text/plain": [
       "array([ 0.22314355,  0.        ,  0.        , -0.11778304, -0.22314355])"
      ]
     },
     "execution_count": 3,
     "metadata": {},
     "output_type": "execute_result"
    }
   ],
   "source": [
    "y = np.log(model.sol.HF_vec/model.sol.HM_vec)\n",
    "y"
   ]
  },
  {
   "cell_type": "code",
   "execution_count": 8,
   "metadata": {},
   "outputs": [],
   "source": [
    "LM_vec = model.sol.LM_vec\n"
   ]
  },
  {
   "cell_type": "code",
   "execution_count": 9,
   "metadata": {},
   "outputs": [],
   "source": [
    "HM_vec = model.sol.HM_vec"
   ]
  },
  {
   "cell_type": "code",
   "execution_count": 10,
   "metadata": {},
   "outputs": [],
   "source": [
    "HF_vec = model.sol.HF_vec"
   ]
  },
  {
   "cell_type": "code",
   "execution_count": 11,
   "metadata": {},
   "outputs": [],
   "source": [
    "LF_vec = model.sol.LF_vec"
   ]
  },
  {
   "cell_type": "code",
   "execution_count": 12,
   "metadata": {},
   "outputs": [],
   "source": [
    "par = model.par"
   ]
  },
  {
   "cell_type": "code",
   "execution_count": 13,
   "metadata": {},
   "outputs": [
    {
     "name": "stderr",
     "output_type": "stream",
     "text": [
      "/var/folders/ft/f467_j493855psj5121nl9kc0000gn/T/ipykernel_20557/1915531667.py:2: RuntimeWarning: divide by zero encountered in log\n",
      "  H_log = np.log(y)\n",
      "/var/folders/ft/f467_j493855psj5121nl9kc0000gn/T/ipykernel_20557/1915531667.py:2: RuntimeWarning: invalid value encountered in log\n",
      "  H_log = np.log(y)\n"
     ]
    }
   ],
   "source": [
    "import matplotlib.pyplot as plt\n",
    "H_log = np.log(y)\n",
    "w_log = np.log(model.par.wF_vec)\n",
    "\n",
    "fig = plt.Figure(figsize=(6,4))\n",
    "ax = fig.add_subplot(1,1,1)\n",
    "\n",
    "ax.plot(H_log, w_log, ls='--', lw=2, color='magenta')\n",
    "plt.show()"
   ]
  },
  {
   "cell_type": "code",
   "execution_count": 7,
   "metadata": {},
   "outputs": [
    {
     "name": "stderr",
     "output_type": "stream",
     "text": [
      "/var/folders/ft/f467_j493855psj5121nl9kc0000gn/T/ipykernel_20557/3875554793.py:1: RuntimeWarning: divide by zero encountered in log\n",
      "  H_log = np.log(y)\n",
      "/var/folders/ft/f467_j493855psj5121nl9kc0000gn/T/ipykernel_20557/3875554793.py:1: RuntimeWarning: invalid value encountered in log\n",
      "  H_log = np.log(y)\n"
     ]
    },
    {
     "data": {
      "text/plain": [
       "<function matplotlib.pyplot.show(close=None, block=None)>"
      ]
     },
     "execution_count": 7,
     "metadata": {},
     "output_type": "execute_result"
    },
    {
     "data": {
      "image/png": "[encoded data removed]",
      "text/plain": [
       "<Figure size 640x480 with 1 Axes>"
      ]
     },
     "metadata": {},
     "output_type": "display_data"
    }
   ],
   "source": [
    "H_log = np.log(y)\n",
    "w_log = np.log(par.wF_vec)\n",
    "\n",
    "import matplotlib.pyplot as plt\n",
    "plt.plot(H_log)\n",
    "plt.show\n"
   ]
  },
  {
   "cell_type": "markdown",
   "metadata": {},
   "source": [
    "Explain your code and procedure"
   ]
  },
  {
   "cell_type": "markdown",
   "metadata": {},
   "source": [
    "# Question 3"
   ]
  },
  {
   "cell_type": "markdown",
   "metadata": {},
   "source": [
    "Explain your code and procedure"
   ]
  },
  {
   "cell_type": "code",
   "execution_count": null,
   "metadata": {},
   "outputs": [],
   "source": [
    "# code"
   ]
  },
  {
   "cell_type": "markdown",
   "metadata": {},
   "source": [
    "ADD CONCISE CONLUSION."
   ]
  },
  {
   "cell_type": "code",
   "execution_count": null,
   "metadata": {},
   "outputs": [],
   "source": [
    "#Question 4\n"
   ]
  }
 ],
 "metadata": {
  "kernelspec": {
   "display_name": "base",
   "language": "python",
   "name": "python3"
  },
  "language_info": {
   "codemirror_mode": {
    "name": "ipython",
    "version": 3
   },
   "file_extension": ".py",
   "mimetype": "text/x-python",
   "name": "python",
   "nbconvert_exporter": "python",
   "pygments_lexer": "ipython3",
   "version": "3.9.13"
  },
  "toc-autonumbering": true,
  "vscode": {
   "interpreter": {
    "hash": "d2456488a94c71d43b75bf2372380bcd26be9cd0416e87dae3a3f20f337a92c8"
   }
  }
 },
 "nbformat": 4,
 "nbformat_minor": 4
}
