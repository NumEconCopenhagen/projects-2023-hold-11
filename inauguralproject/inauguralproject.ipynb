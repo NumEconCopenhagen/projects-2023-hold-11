{
 "cells": [
  {
   "cell_type": "markdown",
   "metadata": {},
   "source": [
    "# Inaugural Project"
   ]
  },
  {
   "attachments": {},
   "cell_type": "markdown",
   "metadata": {},
   "source": [
    "> **Note the following:** \n",
    "> 1. This is an example of how to structure your **inaugural project**.\n",
    "> 1. Remember the general advice on structuring and commenting your code\n",
    "> 1. The `inauguralproject.py` file includes a function which can be used multiple times in this notebook."
   ]
  },
  {
   "cell_type": "markdown",
   "metadata": {},
   "source": [
    "Imports and set magics:"
   ]
  },
  {
   "cell_type": "code",
   "execution_count": 32,
   "metadata": {},
   "outputs": [
    {
     "name": "stdout",
     "output_type": "stream",
     "text": [
      "The autoreload extension is already loaded. To reload it, use:\n",
      "  %reload_ext autoreload\n"
     ]
    }
   ],
   "source": [
    "import numpy as np\n",
    "\n",
    "# autoreload modules when code is run. Otherwise, python will not see recent changes. \n",
    "%load_ext autoreload\n",
    "%autoreload 2\n",
    "\n",
    "# Import your own code\n",
    "import inauguralproject\n",
    "import HouseholdSpecializationModel"
   ]
  },
  {
   "cell_type": "markdown",
   "metadata": {},
   "source": [
    "# Question 1"
   ]
  },
  {
   "cell_type": "markdown",
   "metadata": {},
   "source": [
    "**Explain how you solve the model**"
   ]
  },
  {
   "cell_type": "code",
   "execution_count": 33,
   "metadata": {},
   "outputs": [
    {
     "name": "stdout",
     "output_type": "stream",
     "text": [
      "[1 4 9]\n"
     ]
    },
    {
     "name": "stderr",
     "output_type": "stream",
     "text": [
      "/Users/emmagabriel/Documents/KU/6. Semester/Introduction to Programming and Numerical Analysis/projects-2023-hold-11/inauguralproject/HouseholdSpecializationModel.py:64: RuntimeWarning: divide by zero encountered in reciprocal\n",
      "  H = ((1-par.alpha)*HM**((par.sigma-1)/par.sigma)+par.alpha*HF**((par.sigma-1)/par.sigma))**(par.sigma/(par.sigma-1))\n",
      "/Users/emmagabriel/Documents/KU/6. Semester/Introduction to Programming and Numerical Analysis/projects-2023-hold-11/inauguralproject/HouseholdSpecializationModel.py:64: RuntimeWarning: invalid value encountered in reciprocal\n",
      "  H = ((1-par.alpha)*HM**((par.sigma-1)/par.sigma)+par.alpha*HF**((par.sigma-1)/par.sigma))**(par.sigma/(par.sigma-1))\n",
      "/Users/emmagabriel/Documents/KU/6. Semester/Introduction to Programming and Numerical Analysis/projects-2023-hold-11/inauguralproject/HouseholdSpecializationModel.py:73: RuntimeWarning: invalid value encountered in reciprocal\n",
      "  utility = np.fmax(Q,1e-8)**(1-par.rho)/(1-par.rho)\n"
     ]
    }
   ],
   "source": [
    "# code for solving the model (remember documentation and comments)\n",
    "\n",
    "a = np.array([1,2,3])\n",
    "#b = inauguralproject.square(a)\n",
    "#print(b)\n",
    "\n",
    "model = HouseholdSpecializationModel.HouseholdSpecializationModelClass()\n",
    "\n",
    "\n",
    "\n",
    "HM = np.zeros([3,3])\n",
    "\n",
    "alphalist = [0.25, 0.50, 0.75]\n",
    "sigmalist = [0.5, 1.0, 1.5]\n",
    "\n",
    "for i, j in enumerate(alphalist):\n",
    "    model.par.alpha = j\n",
    "    for it, s in enumerate(sigmalist):\n",
    "        model.par.sigma = s\n",
    "        out =  model.solve_discrete()\n",
    "        HM[i,it] = out.HF /out.HM\n",
    "\n"
   ]
  },
  {
   "cell_type": "code",
   "execution_count": 34,
   "metadata": {},
   "outputs": [],
   "source": [
    "#Resets parameters\n",
    "model.alpha = 0.5\n",
    "model.sigma=1"
   ]
  },
  {
   "cell_type": "markdown",
   "metadata": {},
   "source": [
    "# Question 2"
   ]
  },
  {
   "cell_type": "code",
   "execution_count": 35,
   "metadata": {},
   "outputs": [
    {
     "name": "stderr",
     "output_type": "stream",
     "text": [
      "/Users/emmagabriel/Documents/KU/6. Semester/Introduction to Programming and Numerical Analysis/projects-2023-hold-11/inauguralproject/HouseholdSpecializationModel.py:73: RuntimeWarning: invalid value encountered in reciprocal\n",
      "  utility = np.fmax(Q,1e-8)**(1-par.rho)/(1-par.rho)\n"
     ]
    }
   ],
   "source": [
    "model.solve_wF_vec(discrete=True)"
   ]
  },
  {
   "cell_type": "code",
   "execution_count": 43,
   "metadata": {},
   "outputs": [
    {
     "data": {
      "text/plain": [
       "array([8. , 7.5, 7. , 7. , 6.5])"
      ]
     },
     "execution_count": 43,
     "metadata": {},
     "output_type": "execute_result"
    }
   ],
   "source": [
    "model.sol.LM_vec\n",
    "model.sol.HM_vec\n",
    "model.sol.LF_vec\n",
    "model.sol.HF_vec"
   ]
  },
  {
   "cell_type": "code",
   "execution_count": null,
   "metadata": {},
   "outputs": [],
   "source": [
    "import matplotlib.pyplot as plt\n",
    "\n"
   ]
  },
  {
   "cell_type": "markdown",
   "metadata": {},
   "source": [
    "Explain your code and procedure"
   ]
  },
  {
   "cell_type": "code",
   "execution_count": null,
   "metadata": {},
   "outputs": [],
   "source": [
    "blabla = np.zeros([1,5])\n",
    "wFlist = [0.8, 0.9, 1.0 , 1.1, 1.2]\n",
    "\n",
    "for i, w in enumerate(wFlist):\n",
    "    model.par.wF_vec = w\n",
    "    out = model.solve_discrete()\n",
    "    blabla[i] = np.log(out.HF / out.HM)"
   ]
  },
  {
   "cell_type": "code",
   "execution_count": null,
   "metadata": {},
   "outputs": [],
   "source": [
    "HM_log = np.log(HM)\n",
    "par.wM = 1.0\n",
    "par.wF = 1.0\n",
    "par.wF_vec = np.linspace(0.8,1.2,5)\n",
    "\n",
    "bla = np.log(par.wF_vec/par.wM)\n",
    "\n",
    "import matplotlib.pyplot as plt\n",
    "plt.plot(HM_log, bla)\n",
    "plt.show"
   ]
  },
  {
   "cell_type": "markdown",
   "metadata": {},
   "source": [
    "# Question 3"
   ]
  },
  {
   "cell_type": "markdown",
   "metadata": {},
   "source": [
    "Explain your code and procedure"
   ]
  },
  {
   "cell_type": "code",
   "execution_count": null,
   "metadata": {},
   "outputs": [],
   "source": [
    "# code"
   ]
  },
  {
   "cell_type": "markdown",
   "metadata": {},
   "source": [
    "ADD CONCISE CONLUSION."
   ]
  },
  {
   "cell_type": "code",
   "execution_count": null,
   "metadata": {},
   "outputs": [],
   "source": [
    "#Question 4\n"
   ]
  }
 ],
 "metadata": {
  "kernelspec": {
   "display_name": "base",
   "language": "python",
   "name": "python3"
  },
  "language_info": {
   "codemirror_mode": {
    "name": "ipython",
    "version": 3
   },
   "file_extension": ".py",
   "mimetype": "text/x-python",
   "name": "python",
   "nbconvert_exporter": "python",
   "pygments_lexer": "ipython3",
   "version": "3.9.13"
  },
  "toc-autonumbering": true,
  "vscode": {
   "interpreter": {
    "hash": "d2456488a94c71d43b75bf2372380bcd26be9cd0416e87dae3a3f20f337a92c8"
   }
  }
 },
 "nbformat": 4,
 "nbformat_minor": 4
}
