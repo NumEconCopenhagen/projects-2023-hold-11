{
 "cells": [
  {
   "cell_type": "markdown",
   "metadata": {},
   "source": [
    "# Inaugural Project"
   ]
  },
  {
   "attachments": {},
   "cell_type": "markdown",
   "metadata": {},
   "source": [
    "> **Note the following:** \n",
    "> 1. This is an example of how to structure your **inaugural project**.\n",
    "> 1. Remember the general advice on structuring and commenting your code\n",
    "> 1. The `inauguralproject.py` file includes a function which can be used multiple times in this notebook."
   ]
  },
  {
   "cell_type": "markdown",
   "metadata": {},
   "source": [
    "Imports and set magics:"
   ]
  },
  {
   "cell_type": "code",
   "execution_count": 1,
   "metadata": {},
   "outputs": [],
   "source": [
    "import numpy as np\n",
    "import pandas as pd\n",
    "import ipywidgets as widgets\n",
    "import matplotlib.pyplot as plt\n",
    "\n",
    "\n",
    "# autoreload modules when code is run. Otherwise, python will not see recent changes. \n",
    "%load_ext autoreload\n",
    "%autoreload 2\n",
    "\n",
    "# Import your own code\n",
    "import inauguralproject\n",
    "import HouseholdSpecializationModel"
   ]
  },
  {
   "cell_type": "markdown",
   "metadata": {},
   "source": [
    "# Question 1"
   ]
  },
  {
   "cell_type": "markdown",
   "metadata": {},
   "source": [
    "**Explain how you solve the model**"
   ]
  },
  {
   "cell_type": "code",
   "execution_count": 2,
   "metadata": {},
   "outputs": [
    {
     "name": "stderr",
     "output_type": "stream",
     "text": [
      "c:\\IntroProgNum\\projects-2023-hold-11\\inauguralproject\\HouseholdSpecializationModel.py:64: RuntimeWarning: divide by zero encountered in reciprocal\n",
      "  H = ((1-par.alpha)*HM**((par.sigma-1)/par.sigma)+par.alpha*HF**((par.sigma-1)/par.sigma))**(par.sigma/(par.sigma-1))\n"
     ]
    }
   ],
   "source": [
    "# code for solving the model (remember documentation and comments)\n",
    "model = HouseholdSpecializationModel.HouseholdSpecializationModelClass()\n",
    "HM = np.zeros([3,3]) # empty matrix to be filled\n",
    "\n",
    "alphalist = [0.25, 0.50, 0.75] #starting alpha values\n",
    "sigmalist = [0.5, 1.0, 1.5] # starting sigma values\n",
    "\n",
    "# iterate over alphalist and then sigma list and call solution\n",
    "for i, j in enumerate(alphalist): \n",
    "    model.par.alpha = j\n",
    "    for it, s in enumerate(sigmalist):\n",
    "        model.par.sigma = s\n",
    "        out =  model.solve_discrete()\n",
    "        HM[i,it] = out.HF /out.HM\n",
    "\n"
   ]
  },
  {
   "cell_type": "code",
   "execution_count": 3,
   "metadata": {},
   "outputs": [
    {
     "name": "stdout",
     "output_type": "stream",
     "text": [
      "[[0.54545455 0.30769231 0.21428571]\n",
      " [1.         1.         1.        ]\n",
      " [1.83333333 3.25       4.66666667]]\n"
     ]
    }
   ],
   "source": [
    "print(HM)"
   ]
  },
  {
   "cell_type": "code",
   "execution_count": 4,
   "metadata": {},
   "outputs": [],
   "source": [
    "#Force reset of parameters to standard\n",
    "model.alpha = 0.5\n",
    "model.sigma=1"
   ]
  },
  {
   "cell_type": "markdown",
   "metadata": {},
   "source": [
    "# Question 2"
   ]
  },
  {
   "cell_type": "code",
   "execution_count": 5,
   "metadata": {},
   "outputs": [],
   "source": [
    "model = HouseholdSpecializationModel.HouseholdSpecializationModelClass()\n",
    "model.solve_wF_vec(discrete=True)"
   ]
  },
  {
   "cell_type": "code",
   "execution_count": 6,
   "metadata": {},
   "outputs": [
    {
     "name": "stdout",
     "output_type": "stream",
     "text": [
      "[ 0.22314355  0.          0.         -0.11778304 -0.22314355]\n",
      "[-0.22314355 -0.10536052  0.          0.09531018  0.18232156]\n"
     ]
    },
    {
     "data": {
      "text/plain": [
       "[<matplotlib.lines.Line2D at 0x1e093dbbd90>]"
      ]
     },
     "execution_count": 6,
     "metadata": {},
     "output_type": "execute_result"
    },
    {
     "data": {
      "image/png": "[encoded data removed]",
      "text/plain": [
       "<Figure size 640x480 with 1 Axes>"
      ]
     },
     "metadata": {},
     "output_type": "display_data"
    }
   ],
   "source": [
    "# plot the log ratio of hours worked for female and male and the log ratio of wage for female and male\n",
    "y = np.log(model.sol.HF_vec/model.sol.HM_vec) # call the solution and make fraction of hours and take log\n",
    "print(y)\n",
    "x = np.log(model.par.wF_vec) #call the parameters from the class \n",
    "print(x)\n",
    "plt.plot(x,y)"
   ]
  },
  {
   "cell_type": "markdown",
   "metadata": {},
   "source": [
    "Explain your code and procedure"
   ]
  },
  {
   "cell_type": "markdown",
   "metadata": {},
   "source": [
    "# Question 3"
   ]
  },
  {
   "cell_type": "markdown",
   "metadata": {},
   "source": [
    "Explain your code and procedure"
   ]
  },
  {
   "cell_type": "code",
   "execution_count": 7,
   "metadata": {},
   "outputs": [],
   "source": [
    "# code"
   ]
  },
  {
   "cell_type": "markdown",
   "metadata": {},
   "source": [
    "ADD CONCISE CONLUSION."
   ]
  },
  {
   "cell_type": "code",
   "execution_count": 8,
   "metadata": {},
   "outputs": [],
   "source": [
    "#Question 4\n"
   ]
  }
 ],
 "metadata": {
  "kernelspec": {
   "display_name": "base",
   "language": "python",
   "name": "python3"
  },
  "language_info": {
   "codemirror_mode": {
    "name": "ipython",
    "version": 3
   },
   "file_extension": ".py",
   "mimetype": "text/x-python",
   "name": "python",
   "nbconvert_exporter": "python",
   "pygments_lexer": "ipython3",
   "version": "3.9.16"
  },
  "toc-autonumbering": true,
  "vscode": {
   "interpreter": {
    "hash": "d2456488a94c71d43b75bf2372380bcd26be9cd0416e87dae3a3f20f337a92c8"
   }
  }
 },
 "nbformat": 4,
 "nbformat_minor": 4
}
