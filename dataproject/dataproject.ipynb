{
 "cells": [
  {
   "attachments": {},
   "cell_type": "markdown",
   "metadata": {},
   "source": [
    "# Exploring Swedish macroeconomic data \n"
   ]
  },
  {
   "cell_type": "markdown",
   "metadata": {},
   "source": [
    "Imports and set magics:"
   ]
  },
  {
   "cell_type": "code",
   "execution_count": 1,
   "metadata": {},
   "outputs": [],
   "source": [
    "import pandas as pd\n",
    "import numpy as np\n",
    "import matplotlib.pyplot as plt\n",
    "import ipywidgets as widgets\n",
    "#%pip install matplotlib-venn\n",
    "from matplotlib_venn import venn2\n",
    "from statsmodels.tsa.statespace.sarimax import SARIMAX\n",
    "\n",
    "\n",
    "# autoreload modules when code is run\n",
    "%load_ext autoreload\n",
    "%autoreload 2\n",
    "\n",
    "# user written modules\n",
    "import dataproject\n"
   ]
  },
  {
   "cell_type": "markdown",
   "metadata": {},
   "source": [
    "# Read and clean data"
   ]
  },
  {
   "cell_type": "code",
   "execution_count": 2,
   "metadata": {},
   "outputs": [],
   "source": [
    "filename = 'data/Bachelor-data.xlsx' # open the file (read)\n",
    "df = pd.read_excel(filename)\n",
    "df.rename(columns={'Unnamed: 0':'year'}, inplace = True) # rename the unnamed year column to year (clean)\n",
    "\n"
   ]
  },
  {
   "attachments": {},
   "cell_type": "markdown",
   "metadata": {},
   "source": [
    "# Exploring the dataset "
   ]
  },
  {
   "attachments": {},
   "cell_type": "markdown",
   "metadata": {},
   "source": [
    "To get a quick overview of the data, we show some **summary statistics** of the data we end up using for the plots and explanations. "
   ]
  },
  {
   "cell_type": "code",
   "execution_count": 10,
   "metadata": {},
   "outputs": [
    {
     "data": {
      "text/html": [
       "<div>\n",
       "<style scoped>\n",
       "    .dataframe tbody tr th:only-of-type {\n",
       "        vertical-align: middle;\n",
       "    }\n",
       "\n",
       "    .dataframe tbody tr th {\n",
       "        vertical-align: top;\n",
       "    }\n",
       "\n",
       "    .dataframe thead th {\n",
       "        text-align: right;\n",
       "    }\n",
       "</style>\n",
       "<table border=\"1\" class=\"dataframe\">\n",
       "  <thead>\n",
       "    <tr style=\"text-align: right;\">\n",
       "      <th></th>\n",
       "      <th>Unemployment rate</th>\n",
       "      <th>Central bank key interest rate</th>\n",
       "      <th>CPI</th>\n",
       "      <th>Private consumption, growth</th>\n",
       "      <th>Government consumption, growth</th>\n",
       "      <th>GDP, growth</th>\n",
       "    </tr>\n",
       "  </thead>\n",
       "  <tbody>\n",
       "    <tr>\n",
       "      <th>count</th>\n",
       "      <td>121.000000</td>\n",
       "      <td>121.000000</td>\n",
       "      <td>121.000000</td>\n",
       "      <td>121.000000</td>\n",
       "      <td>121.000000</td>\n",
       "      <td>121.000000</td>\n",
       "    </tr>\n",
       "    <tr>\n",
       "      <th>mean</th>\n",
       "      <td>7.774373</td>\n",
       "      <td>3.835950</td>\n",
       "      <td>0.819862</td>\n",
       "      <td>1.976088</td>\n",
       "      <td>1.116998</td>\n",
       "      <td>2.164594</td>\n",
       "    </tr>\n",
       "    <tr>\n",
       "      <th>std</th>\n",
       "      <td>2.152264</td>\n",
       "      <td>4.943223</td>\n",
       "      <td>0.095128</td>\n",
       "      <td>3.002315</td>\n",
       "      <td>2.553622</td>\n",
       "      <td>3.496295</td>\n",
       "    </tr>\n",
       "    <tr>\n",
       "      <th>min</th>\n",
       "      <td>1.834398</td>\n",
       "      <td>-0.500000</td>\n",
       "      <td>0.582506</td>\n",
       "      <td>-8.565919</td>\n",
       "      <td>-3.796196</td>\n",
       "      <td>-13.577965</td>\n",
       "    </tr>\n",
       "    <tr>\n",
       "      <th>25%</th>\n",
       "      <td>6.586716</td>\n",
       "      <td>0.750000</td>\n",
       "      <td>0.748994</td>\n",
       "      <td>0.311351</td>\n",
       "      <td>-0.366642</td>\n",
       "      <td>0.185637</td>\n",
       "    </tr>\n",
       "    <tr>\n",
       "      <th>50%</th>\n",
       "      <td>7.539960</td>\n",
       "      <td>2.900000</td>\n",
       "      <td>0.815023</td>\n",
       "      <td>2.102873</td>\n",
       "      <td>0.915401</td>\n",
       "      <td>2.652260</td>\n",
       "    </tr>\n",
       "    <tr>\n",
       "      <th>75%</th>\n",
       "      <td>8.570999</td>\n",
       "      <td>4.250000</td>\n",
       "      <td>0.912874</td>\n",
       "      <td>3.879584</td>\n",
       "      <td>2.606208</td>\n",
       "      <td>4.494419</td>\n",
       "    </tr>\n",
       "    <tr>\n",
       "      <th>max</th>\n",
       "      <td>12.423479</td>\n",
       "      <td>40.000000</td>\n",
       "      <td>0.979983</td>\n",
       "      <td>11.857397</td>\n",
       "      <td>14.569112</td>\n",
       "      <td>11.029760</td>\n",
       "    </tr>\n",
       "  </tbody>\n",
       "</table>\n",
       "</div>"
      ],
      "text/plain": [
       "       Unemployment rate  Central bank key interest rate         CPI  \\\n",
       "count         121.000000                      121.000000  121.000000   \n",
       "mean            7.774373                        3.835950    0.819862   \n",
       "std             2.152264                        4.943223    0.095128   \n",
       "min             1.834398                       -0.500000    0.582506   \n",
       "25%             6.586716                        0.750000    0.748994   \n",
       "50%             7.539960                        2.900000    0.815023   \n",
       "75%             8.570999                        4.250000    0.912874   \n",
       "max            12.423479                       40.000000    0.979983   \n",
       "\n",
       "       Private consumption, growth  Government consumption, growth  \\\n",
       "count                   121.000000                      121.000000   \n",
       "mean                      1.976088                        1.116998   \n",
       "std                       3.002315                        2.553622   \n",
       "min                      -8.565919                       -3.796196   \n",
       "25%                       0.311351                       -0.366642   \n",
       "50%                       2.102873                        0.915401   \n",
       "75%                       3.879584                        2.606208   \n",
       "max                      11.857397                       14.569112   \n",
       "\n",
       "       GDP, growth  \n",
       "count   121.000000  \n",
       "mean      2.164594  \n",
       "std       3.496295  \n",
       "min     -13.577965  \n",
       "25%       0.185637  \n",
       "50%       2.652260  \n",
       "75%       4.494419  \n",
       "max      11.029760  "
      ]
     },
     "execution_count": 10,
     "metadata": {},
     "output_type": "execute_result"
    }
   ],
   "source": [
    "df[['Unemployment rate','Central bank key interest rate','CPI', 'Private consumption, growth','Government consumption, growth','GDP, growth']].describe()"
   ]
  },
  {
   "attachments": {},
   "cell_type": "markdown",
   "metadata": {},
   "source": [
    "We for example note that the key interest rate ranges from -0.5% to 40%, where 40% seems rather high. We also note that the average growth in GDP is around 2% (2.16%) which is expected. The average growth in private consumption is close to 2% (1.98%). So both GDP and private consumption appears to follow the same trend. "
   ]
  },
  {
   "attachments": {},
   "cell_type": "markdown",
   "metadata": {},
   "source": [
    "We start of by creating a Phillips curve for the Swedish economy. Below is the theoretical predection and the actucal Phillips curve."
   ]
  },
  {
   "attachments": {},
   "cell_type": "markdown",
   "metadata": {},
   "source": [
    "\n",
    "![alternative text](data/phillips-curve.png)\n"
   ]
  },
  {
   "cell_type": "code",
   "execution_count": 4,
   "metadata": {},
   "outputs": [
    {
     "data": {
      "text/plain": [
       "<AxesSubplot:title={'center':'Swedish Phillips-curve 1990Q1-2020Q1'}, xlabel='Unemployment rate', ylabel='CPI'>"
      ]
     },
     "execution_count": 4,
     "metadata": {},
     "output_type": "execute_result"
    },
    {
     "data": {
      "image/png": "[encoded data removed]",
      "text/plain": [
       "<Figure size 640x480 with 1 Axes>"
      ]
     },
     "metadata": {},
     "output_type": "display_data"
    }
   ],
   "source": [
    "df.plot.scatter(x = 'Unemployment rate', y = 'CPI',title='Swedish Phillips-curve 1990Q1-2020Q1')"
   ]
  },
  {
   "attachments": {},
   "cell_type": "markdown",
   "metadata": {},
   "source": [
    "It is immediately apperent that the theoretical predictions do not hold empirically. This specific result is well know and relates to the Lucas critique."
   ]
  },
  {
   "attachments": {},
   "cell_type": "markdown",
   "metadata": {},
   "source": [
    "# Next we make an interactive plot"
   ]
  },
  {
   "cell_type": "code",
   "execution_count": 5,
   "metadata": {},
   "outputs": [],
   "source": [
    "# this code is used for skipping quarters in the plots to avoid to many entries on the x-axis\n",
    "l =[]\n",
    "for j, i in enumerate(df.year.values):\n",
    "\n",
    "    if j%4==0 :\n",
    "        pass\n",
    "    else:\n",
    "        i = '' \n",
    "    l.append(i)\n",
    "l = np.array(l)    \n"
   ]
  },
  {
   "cell_type": "code",
   "execution_count": 6,
   "metadata": {},
   "outputs": [],
   "source": [
    "# used to ignore a warning in the interactive plot below\n",
    "import warnings\n",
    "warnings.filterwarnings('ignore')"
   ]
  },
  {
   "cell_type": "code",
   "execution_count": 7,
   "metadata": {},
   "outputs": [],
   "source": [
    "# function that takes a dataframe and creates a plot\n",
    "def _plot_timeseries(dataframe, variable):\n",
    "    \n",
    "    fig = plt.figure(dpi=100)\n",
    "    ax = fig.add_subplot(1,1,1)\n",
    "    variable = list(variable)\n",
    "    \n",
    "    x = dataframe.year.values\n",
    "    y = dataframe[variable].values\n",
    "    \n",
    "\n",
    "    ax.plot(x,y, label = variable)\n",
    "    if len(variable) != 1:\n",
    "\n",
    "        title = ' and '.join(variable)\n",
    "    else:\n",
    "        title = variable[0]\n",
    "    ax.set_title(title)\n",
    "    ax.set_xticklabels(l,rotation= 90)\n",
    "    ax.legend(loc='upper right')\n",
    "    plt.show()  \n",
    "\n",
    "# plots the plots interactivly     \n",
    "def plot_timeseries(dataframe):\n",
    "    \n",
    "    widgets.interact(_plot_timeseries, \n",
    "    dataframe = widgets.fixed(dataframe),\n",
    "    variable = widgets.SelectMultiple(\n",
    "        description='variable', \n",
    "        options=['Unemployment rate','Total employment, growth','Central bank key interest rate','CPI','Private consumption, growth','Private final consumption, volume', 'Government consumption, growth', 'Government consumption, volume', 'GDP, growth','GDP, volume, market prices','taxes'], \n",
    "        value=['CPI']),\n",
    "    ); "
   ]
  },
  {
   "attachments": {},
   "cell_type": "markdown",
   "metadata": {},
   "source": [
    "Below we make an interactive plot. The plot can take all variables in the dataframe, df. You can choose multiple variables at the same time by using the drop down menu. Choosing multiple values is done by using shift and/or ctrl (or command on mac) + enter."
   ]
  },
  {
   "cell_type": "code",
   "execution_count": 8,
   "metadata": {},
   "outputs": [
    {
     "data": {
      "application/vnd.jupyter.widget-view+json": {
       "model_id": "547748ff4ae84cdbbdbb420961535049",
       "version_major": 2,
       "version_minor": 0
      },
      "text/plain": [
       "interactive(children=(SelectMultiple(description='variable', index=(3,), options=('Unemployment rate', 'Total …"
      ]
     },
     "metadata": {},
     "output_type": "display_data"
    }
   ],
   "source": [
    "# call the interactive plot using the dataframe, df.\n",
    "plot_timeseries(df)"
   ]
  },
  {
   "attachments": {},
   "cell_type": "markdown",
   "metadata": {},
   "source": [
    "- Selecting `Private consumption, growth` and `GDP, growth`, it is easy to see that `Private consumption, growth` is pro cyclical. Is is also noted that `GDP` appears more volatile than `private consumption`. This could suggest that consumers wish to smooth out their consumption, i.e. if their income falls by one unit, then their consumption falls by less than one unit.  \n",
    "- Selecting `central bank key interest rate` and `GDP, growth`, their appears to be some inverse correlation, but is is not very strong. the inverse correlation appears strongest around 1992-1993 and around 2008.\n",
    "- Selecting `Goverment consumption, growth` and `GDP, growth`. The correlation is not unambiguous. Around 1990 to 1991/92 the correlation appears inverse, same around 2008. Around 1999 and 2018 the co-movement seems strong. "
   ]
  },
  {
   "attachments": {},
   "cell_type": "markdown",
   "metadata": {},
   "source": [
    "Some interresting explaination of the above `Unemployment rate`, `interest rate` and `CPI`"
   ]
  },
  {
   "cell_type": "markdown",
   "metadata": {},
   "source": [
    "# Conclusion"
   ]
  },
  {
   "attachments": {},
   "cell_type": "markdown",
   "metadata": {},
   "source": [
    "Having Explored the data, we can conclude that the theoretical prediction of the Phillips curve does not hold empirically for Swedish Data. The intution that GDP growth and growth in private consumption does indeed hold, due to the co-movement."
   ]
  }
 ],
 "metadata": {
  "kernelspec": {
   "display_name": "base",
   "language": "python",
   "name": "python3"
  },
  "language_info": {
   "codemirror_mode": {
    "name": "ipython",
    "version": 3
   },
   "file_extension": ".py",
   "mimetype": "text/x-python",
   "name": "python",
   "nbconvert_exporter": "python",
   "pygments_lexer": "ipython3",
   "version": "3.9.13"
  },
  "toc-autonumbering": true,
  "vscode": {
   "interpreter": {
    "hash": "5980edddd43df4d225ea15e97525df0d9d3a82802e33a6fc2c74990cc49417b1"
   }
  }
 },
 "nbformat": 4,
 "nbformat_minor": 4
}
