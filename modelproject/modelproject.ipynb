{
 "cells": [
  {
   "attachments": {},
   "cell_type": "markdown",
   "metadata": {},
   "source": [
    "# Stackelberg Model of Duopoly"
   ]
  },
  {
   "attachments": {},
   "cell_type": "markdown",
   "metadata": {},
   "source": [
    "Imports and set magics:"
   ]
  },
  {
   "cell_type": "code",
   "execution_count": 1,
   "metadata": {},
   "outputs": [],
   "source": [
    "import numpy as np\n",
    "from scipy import optimize\n",
    "import sympy as sm\n",
    "import matplotlib.pyplot as plt\n",
    "from matplotlib import cm # for colormaps\n",
    "\n",
    "# autoreload modules when code is run\n",
    "%load_ext autoreload\n",
    "%autoreload 2\n",
    "\n",
    "# local modules\n",
    "from Stackelberg import StackelbergEquilibriumSolver as model\n",
    "from Stackelberg import plot, plot_interact, plot2_interact, plot2\n"
   ]
  },
  {
   "attachments": {},
   "cell_type": "markdown",
   "metadata": {},
   "source": [
    "# Model description"
   ]
  },
  {
   "attachments": {},
   "cell_type": "markdown",
   "metadata": {},
   "source": [
    "\n",
    "\n",
    " We use the book \"A Primer in Game Theory\" by Gibbons as our source on the Stackelberg model. The model can be solved analytically as shown below using  `Sympy`\n",
    "\n",
    "\n",
    " The model is a game theoretical model that deals with a type of duopoly where one firm moves first (leader) and then a second firm (follower) observes this move and makes its own move. The firms are competing in quantities like in Cournot. \n",
    "\n",
    "\n",
    " Define the profit function for firm i as \n",
    " \n",
    " $\\pi_i(q_i, q_j)=q_i[P(Q)-c]$\n",
    "\n",
    " where $P(Q) = d-Q$ is the market clearing price and Q is the total quantity demanded, that is $Q = q_1 + q_2$\n",
    "\n",
    " The game is solved by backwards induction. The method to solve it can be described as below:\n",
    "\n",
    " 1. Solve firm 2's reaction to any quantity produced by firm 1 - that is, profit maximize for firm 2, taking the quantity produced by firm 1 as a given.\n",
    " 2. Insert solutution from step 1. into profit function for firm 1. \n",
    " 3. Maximize profits for firm 1. (which yields the solution for firm 1)\n",
    " 4. Take solution from step 3. and insert into the results from step 1 (this yields the solution for firm 2)"
   ]
  },
  {
   "attachments": {},
   "cell_type": "markdown",
   "metadata": {},
   "source": [
    "## Analytical solution"
   ]
  },
  {
   "attachments": {},
   "cell_type": "markdown",
   "metadata": {},
   "source": [
    "\n",
    "\n",
    " The profit functions are shown below for firm 1 and 2, respectively.  "
   ]
  },
  {
   "cell_type": "code",
   "execution_count": 2,
   "metadata": {},
   "outputs": [
    {
     "data": {
      "text/latex": [
       "$\\displaystyle q_{1} \\left(- c + d - q_{1} - q_{2}\\right)$"
      ],
      "text/plain": [
       "q_1*(-c + d - q_1 - q_2)"
      ]
     },
     "execution_count": 2,
     "metadata": {},
     "output_type": "execute_result"
    }
   ],
   "source": [
    "d = sm.symbols('d') \n",
    "c = sm.symbols('c') \n",
    "q1 = sm.symbols('q_1') \n",
    "q2 = sm.symbols('q_2')\n",
    "Q = q1 + q2\n",
    "profit1 = q1*(d-Q-c)\n",
    "profit1\n"
   ]
  },
  {
   "cell_type": "code",
   "execution_count": 3,
   "metadata": {},
   "outputs": [
    {
     "data": {
      "text/latex": [
       "$\\displaystyle q_{2} \\left(- c + d - q_{1} - q_{2}\\right)$"
      ],
      "text/plain": [
       "q_2*(-c + d - q_1 - q_2)"
      ]
     },
     "execution_count": 3,
     "metadata": {},
     "output_type": "execute_result"
    }
   ],
   "source": [
    "profit2 = q2*(d-Q-c)\n",
    "profit2\n"
   ]
  },
  {
   "attachments": {},
   "cell_type": "markdown",
   "metadata": {},
   "source": [
    "Taking the FOC for for firm 2 yields "
   ]
  },
  {
   "cell_type": "code",
   "execution_count": 4,
   "metadata": {},
   "outputs": [
    {
     "data": {
      "text/latex": [
       "$\\displaystyle - c + d - q_{1} - 2 q_{2}$"
      ],
      "text/plain": [
       "-c + d - q_1 - 2*q_2"
      ]
     },
     "execution_count": 4,
     "metadata": {},
     "output_type": "execute_result"
    }
   ],
   "source": [
    "foc = sm.diff(profit2, q2)\n",
    "foc"
   ]
  },
  {
   "attachments": {},
   "cell_type": "markdown",
   "metadata": {},
   "source": [
    "Setting this equal to zero and solving for $q_2$ yields"
   ]
  },
  {
   "cell_type": "code",
   "execution_count": 5,
   "metadata": {},
   "outputs": [
    {
     "data": {
      "text/latex": [
       "$\\displaystyle \\frac{- c + d - q_{1}}{2}$"
      ],
      "text/plain": [
       "(-c + d - q_1)/2"
      ]
     },
     "execution_count": 5,
     "metadata": {},
     "output_type": "execute_result"
    }
   ],
   "source": [
    "sol1 = sm.solve(sm.Eq(foc,0), q2)\n",
    "sol1[0].together() #.together() collects the resultsting fractions into one for a nicer view\n"
   ]
  },
  {
   "attachments": {},
   "cell_type": "markdown",
   "metadata": {},
   "source": [
    "The above is the best response function of firm 2 and any quantity from firm 1. This can now be inserted into firm 1's profit function.\n",
    "\n",
    "$ \\pi_1(q_1, R_2(q_1))=q_1[d-q_1-R_2(q_1)-c] =  q_1\\frac{d-q_1-c}{2}$\n",
    "\n",
    "And $R_2(q_1)$ is the reaction function of firm 2\n"
   ]
  },
  {
   "cell_type": "code",
   "execution_count": 6,
   "metadata": {},
   "outputs": [
    {
     "data": {
      "text/latex": [
       "$\\displaystyle \\frac{q_{1} \\left(- c + d - q_{1}\\right)}{2}$"
      ],
      "text/plain": [
       "q_1*(-c + d - q_1)/2"
      ]
     },
     "execution_count": 6,
     "metadata": {},
     "output_type": "execute_result"
    }
   ],
   "source": [
    "profit1_subs = profit1.subs(q2, sol1[0])\n",
    "profit1_subs.together()\n",
    "\n"
   ]
  },
  {
   "attachments": {},
   "cell_type": "markdown",
   "metadata": {},
   "source": [
    "Taking the FOC of this yields "
   ]
  },
  {
   "cell_type": "code",
   "execution_count": 7,
   "metadata": {},
   "outputs": [
    {
     "data": {
      "text/latex": [
       "$\\displaystyle \\frac{- c + d - 2 q_{1}}{2}$"
      ],
      "text/plain": [
       "(-c + d - 2*q_1)/2"
      ]
     },
     "execution_count": 7,
     "metadata": {},
     "output_type": "execute_result"
    }
   ],
   "source": [
    "foc2 = sm.diff(profit1_subs, q1)\n",
    "foc2.together()"
   ]
  },
  {
   "cell_type": "code",
   "execution_count": 8,
   "metadata": {},
   "outputs": [
    {
     "data": {
      "text/latex": [
       "$\\displaystyle \\frac{- c + d}{2}$"
      ],
      "text/plain": [
       "(-c + d)/2"
      ]
     },
     "execution_count": 8,
     "metadata": {},
     "output_type": "execute_result"
    }
   ],
   "source": [
    "sol3 = sm.solve(sm.Eq(foc2,0), q1)\n",
    "sol3[0].together()"
   ]
  },
  {
   "attachments": {},
   "cell_type": "markdown",
   "metadata": {},
   "source": [
    "And the best reaction function of firm 2 becomes "
   ]
  },
  {
   "cell_type": "code",
   "execution_count": 9,
   "metadata": {},
   "outputs": [
    {
     "data": {
      "text/latex": [
       "$\\displaystyle \\frac{- c + d}{4}$"
      ],
      "text/plain": [
       "(-c + d)/4"
      ]
     },
     "execution_count": 9,
     "metadata": {},
     "output_type": "execute_result"
    }
   ],
   "source": [
    "bestresponse2_subs = sol1[0].together().subs(q1, sol3[0])\n",
    "bestresponse2_subs.together()"
   ]
  },
  {
   "attachments": {},
   "cell_type": "markdown",
   "metadata": {},
   "source": [
    "## Numerical solution"
   ]
  },
  {
   "attachments": {},
   "cell_type": "markdown",
   "metadata": {},
   "source": [
    "We can solve the model numerically, the code can be found in the Stackelberg.py file. The standard settings are that $d=20$ and $c=2$. The result from the is shown below. "
   ]
  },
  {
   "cell_type": "code",
   "execution_count": 10,
   "metadata": {},
   "outputs": [
    {
     "name": "stdout",
     "output_type": "stream",
     "text": [
      "q1 = [8.99999936] q2 = [4.50000032]\n"
     ]
    }
   ],
   "source": [
    "model().solve_eq()"
   ]
  },
  {
   "attachments": {},
   "cell_type": "markdown",
   "metadata": {},
   "source": [
    "# Further analysis"
   ]
  },
  {
   "attachments": {},
   "cell_type": "markdown",
   "metadata": {},
   "source": [
    "In this section we attempt to make a 3d plot that shows how q1 and q2 varies by marginal costs, but we don't quite succeed. Any input is welcome. "
   ]
  },
  {
   "cell_type": "code",
   "execution_count": 11,
   "metadata": {},
   "outputs": [
    {
     "name": "stdout",
     "output_type": "stream",
     "text": [
      "q1 = [8.99999936] q2 = [4.50000032]\n",
      "None\n",
      "q1 = [8.99999936] q2 = [4.50000032]\n",
      "None\n",
      "q1 = [8.99999936] q2 = [4.50000032]\n",
      "None\n",
      "q1 = [8.99999936] q2 = [4.50000032]\n",
      "None\n",
      "q1 = [8.99999936] q2 = [4.50000032]\n",
      "None\n"
     ]
    }
   ],
   "source": [
    "\n",
    "M = np.zeros([2,5]) # empty matrix to be filled\n",
    "c_list = [1, 2, 3, 4, 5] # marginal costs\n",
    "\n",
    "\n",
    "# iterate over c_list\n",
    "for i, j in enumerate(c_list): \n",
    "    model().par.c = j\n",
    "    out =  model().solve_eq()\n",
    "    #M[i,j] = out.M\n",
    "    print(out) "
   ]
  },
  {
   "cell_type": "code",
   "execution_count": 12,
   "metadata": {},
   "outputs": [],
   "source": [
    "# idea is to create a 3d plot of q1 and q2 and then have costs on the z-axis. \n",
    "# to be updated\n",
    "# a. plot\n",
    "#fig = plt.figure(figsize=(5,5))\n",
    "#ax = fig.add_subplot(1,1,1,projection='3d')\n",
    "#ax.plot_surface(q1_values,q2_values,c_values,cmap=cm.jet) #q1 and q1 values should be changed to sometinh with the M matrix.\n",
    "#\n",
    "## b. labels\n",
    "#ax.set_xlabel('$q_1$') \n",
    "#ax.set_ylabel('$q_2$')\n",
    "#ax.set_zlabel('$c$')\n",
    "#ax.zaxis.labelpad=0.05\n",
    "#\n",
    "## c. invert xaxis to bring Origin in center front\n",
    "#ax.invert_xaxis()\n",
    "#fig.tight_layout()\n",
    "\n"
   ]
  },
  {
   "attachments": {},
   "cell_type": "markdown",
   "metadata": {},
   "source": [
    "# Conclusion"
   ]
  },
  {
   "attachments": {},
   "cell_type": "markdown",
   "metadata": {},
   "source": [
    "Add concise conclusion. "
   ]
  }
 ],
 "metadata": {
  "kernelspec": {
   "display_name": "base",
   "language": "python",
   "name": "python3"
  },
  "language_info": {
   "codemirror_mode": {
    "name": "ipython",
    "version": 3
   },
   "file_extension": ".py",
   "mimetype": "text/x-python",
   "name": "python",
   "nbconvert_exporter": "python",
   "pygments_lexer": "ipython3",
   "version": "3.9.16"
  },
  "toc-autonumbering": true,
  "vscode": {
   "interpreter": {
    "hash": "47ef90cdf3004d3f859f1fb202523c65c07ba7c22eefd261b181f4744e2d0403"
   }
  }
 },
 "nbformat": 4,
 "nbformat_minor": 4
}
